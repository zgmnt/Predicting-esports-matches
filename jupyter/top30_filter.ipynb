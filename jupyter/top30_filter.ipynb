{
 "cells": [
  {
   "cell_type": "code",
   "execution_count": 254,
   "id": "cc1ad795",
   "metadata": {},
   "outputs": [],
   "source": [
    "import pandas as pd"
   ]
  },
  {
   "cell_type": "code",
   "execution_count": 255,
   "id": "3667fb67",
   "metadata": {},
   "outputs": [],
   "source": [
    "import numpy as np"
   ]
  },
  {
   "cell_type": "code",
   "execution_count": 256,
   "id": "b180a67a",
   "metadata": {},
   "outputs": [],
   "source": [
    "results = pd.read_csv(\"../PycharmProjects/Predicting-esports-matches/data/results/basic_stats.csv\", sep=\",\", decimal=\".\")"
   ]
  },
  {
   "cell_type": "code",
   "execution_count": 257,
   "id": "3dbf57b7",
   "metadata": {},
   "outputs": [],
   "source": [
    "ranking = pd.read_csv(\"../PycharmProjects/Predicting-esports-matches/data/TeamRanking.csv\")"
   ]
  },
  {
   "cell_type": "code",
   "execution_count": 258,
   "id": "08b63439",
   "metadata": {},
   "outputs": [],
   "source": [
    "results.insert(results.shape[1], \"iter\", 0)"
   ]
  },
  {
   "cell_type": "code",
   "execution_count": 259,
   "id": "c63978d0",
   "metadata": {},
   "outputs": [],
   "source": [
    "results[\"iter\"] = range(1, len(results) + 1)"
   ]
  },
  {
   "cell_type": "code",
   "execution_count": 260,
   "id": "da45d5cb",
   "metadata": {},
   "outputs": [],
   "source": [
    "common_columns = [results[\"map\"], results[\"scoreTeamA\"], results[\"scoreTeamB\"], results[\"iter\"]]"
   ]
  },
  {
   "cell_type": "code",
   "execution_count": 261,
   "id": "d607c249",
   "metadata": {},
   "outputs": [],
   "source": [
    "common_columns = pd.concat(common_columns, axis =1)"
   ]
  },
  {
   "cell_type": "code",
   "execution_count": 262,
   "id": "90dd184c",
   "metadata": {},
   "outputs": [],
   "source": [
    "results.drop(common_columns,axis=1, inplace=True)"
   ]
  },
  {
   "cell_type": "code",
   "execution_count": 263,
   "id": "b142e21f",
   "metadata": {},
   "outputs": [],
   "source": [
    "results[\"iter\"] = range(1, len(results) + 1)"
   ]
  },
  {
   "cell_type": "code",
   "execution_count": 264,
   "id": "49e73894",
   "metadata": {},
   "outputs": [],
   "source": [
    "results.drop(columns = [\"Unnamed: 0\"], inplace = True)"
   ]
  },
  {
   "cell_type": "code",
   "execution_count": 266,
   "id": "560c1abe",
   "metadata": {},
   "outputs": [],
   "source": [
    "results.rename(columns={\"teamA\":\"name\"}, inplace =True)"
   ]
  },
  {
   "cell_type": "code",
   "execution_count": 267,
   "id": "75e714e5",
   "metadata": {},
   "outputs": [],
   "source": [
    "teamA = results.loc[:, [\"name\", \"iter\"]]"
   ]
  },
  {
   "cell_type": "code",
   "execution_count": 268,
   "id": "949d828c",
   "metadata": {},
   "outputs": [],
   "source": [
    "results.drop(columns={\"name\"},inplace=True)"
   ]
  },
  {
   "cell_type": "code",
   "execution_count": 269,
   "id": "91cc6849",
   "metadata": {},
   "outputs": [],
   "source": [
    "results.rename(columns={\"teamB\":\"name\"}, inplace =True)"
   ]
  },
  {
   "cell_type": "code",
   "execution_count": 270,
   "id": "c9241dd6",
   "metadata": {},
   "outputs": [],
   "source": [
    "teamB = results.loc[:, [\"name\", \"iter\"]]"
   ]
  },
  {
   "cell_type": "code",
   "execution_count": 271,
   "id": "58879860",
   "metadata": {},
   "outputs": [],
   "source": [
    "results_a_with_position = pd.merge(teamA, ranking, on ='name', how ='inner')\n",
    "results_b_with_position = pd.merge(teamB, ranking, on ='name', how ='inner')"
   ]
  },
  {
   "cell_type": "code",
   "execution_count": 274,
   "id": "22f3095c",
   "metadata": {},
   "outputs": [],
   "source": [
    "results_b_with_position.drop(columns=[\"teamID\"], inplace=True)"
   ]
  },
  {
   "cell_type": "code",
   "execution_count": 275,
   "id": "a3100be2",
   "metadata": {},
   "outputs": [],
   "source": [
    "results_a_with_position.drop(columns=[\"teamID\"], inplace=True)"
   ]
  },
  {
   "cell_type": "code",
   "execution_count": 276,
   "id": "2b483a7e",
   "metadata": {},
   "outputs": [],
   "source": [
    "results_a_with_position.rename(columns = {\"position\": \"positionA\"}, inplace = True)"
   ]
  },
  {
   "cell_type": "code",
   "execution_count": 277,
   "id": "c6b52708",
   "metadata": {},
   "outputs": [],
   "source": [
    "results_b_with_position.rename(columns = {\"position\": \"positionB\"}, inplace = True)"
   ]
  },
  {
   "cell_type": "code",
   "execution_count": 278,
   "id": "4114dee2",
   "metadata": {},
   "outputs": [],
   "source": [
    "results_a_with_position.rename(columns = {\"name\" : \"team_A\"}, inplace = True)\n",
    "results_b_with_position.rename(columns = {\"name\" : \"team_B\"}, inplace = True)"
   ]
  },
  {
   "cell_type": "code",
   "execution_count": 281,
   "id": "1c928b3f",
   "metadata": {},
   "outputs": [],
   "source": [
    "results = pd.merge(results_a_with_position, results_b_with_position, on=\"iter\", how=\"outer\")"
   ]
  },
  {
   "cell_type": "code",
   "execution_count": 282,
   "id": "ce3b1d8d",
   "metadata": {},
   "outputs": [],
   "source": [
    "results.dropna(inplace=True)"
   ]
  },
  {
   "cell_type": "code",
   "execution_count": 285,
   "id": "67a43522",
   "metadata": {},
   "outputs": [],
   "source": [
    "results = pd.merge(results,common_columns, on=\"iter\", how=\"inner\")"
   ]
  },
  {
   "cell_type": "code",
   "execution_count": 286,
   "id": "9432418d",
   "metadata": {},
   "outputs": [],
   "source": [
    "results.drop(columns={\"iter\"}, inplace=True)"
   ]
  },
  {
   "cell_type": "code",
   "execution_count": 287,
   "id": "50235ed9",
   "metadata": {},
   "outputs": [],
   "source": [
    "results[\"positionB\"] = results[\"positionB\"].astype(int)\n",
    "results[\"positionA\"] = results[\"positionA\"].astype(int)"
   ]
  },
  {
   "cell_type": "code",
   "execution_count": 293,
   "id": "33cf0646",
   "metadata": {},
   "outputs": [],
   "source": [
    "results.insert(0, \"team_A\", results.pop(\"team_A\"))\n",
    "results.insert(1, \"team_B\", results.pop(\"team_B\"))\n",
    "results.insert(2, \"positionA\", results.pop(\"positionA\"))\n",
    "results.insert(3, \"positionB\", results.pop(\"positionB\"))"
   ]
  },
  {
   "cell_type": "code",
   "execution_count": 294,
   "id": "32028ae0",
   "metadata": {},
   "outputs": [
    {
     "data": {
      "text/html": [
       "<div>\n",
       "<style scoped>\n",
       "    .dataframe tbody tr th:only-of-type {\n",
       "        vertical-align: middle;\n",
       "    }\n",
       "\n",
       "    .dataframe tbody tr th {\n",
       "        vertical-align: top;\n",
       "    }\n",
       "\n",
       "    .dataframe thead th {\n",
       "        text-align: right;\n",
       "    }\n",
       "</style>\n",
       "<table border=\"1\" class=\"dataframe\">\n",
       "  <thead>\n",
       "    <tr style=\"text-align: right;\">\n",
       "      <th></th>\n",
       "      <th>team_A</th>\n",
       "      <th>team_B</th>\n",
       "      <th>positionA</th>\n",
       "      <th>positionB</th>\n",
       "      <th>map</th>\n",
       "      <th>scoreTeamA</th>\n",
       "      <th>scoreTeamB</th>\n",
       "    </tr>\n",
       "  </thead>\n",
       "  <tbody>\n",
       "    <tr>\n",
       "      <th>0</th>\n",
       "      <td>Cloud9</td>\n",
       "      <td>Outsiders</td>\n",
       "      <td>4</td>\n",
       "      <td>16</td>\n",
       "      <td>Dust2</td>\n",
       "      <td>16</td>\n",
       "      <td>6</td>\n",
       "    </tr>\n",
       "    <tr>\n",
       "      <th>1</th>\n",
       "      <td>Cloud9</td>\n",
       "      <td>Outsiders</td>\n",
       "      <td>4</td>\n",
       "      <td>16</td>\n",
       "      <td>Ancient</td>\n",
       "      <td>16</td>\n",
       "      <td>12</td>\n",
       "    </tr>\n",
       "    <tr>\n",
       "      <th>2</th>\n",
       "      <td>Cloud9</td>\n",
       "      <td>9z</td>\n",
       "      <td>4</td>\n",
       "      <td>25</td>\n",
       "      <td>Mirage</td>\n",
       "      <td>16</td>\n",
       "      <td>13</td>\n",
       "    </tr>\n",
       "    <tr>\n",
       "      <th>3</th>\n",
       "      <td>Cloud9</td>\n",
       "      <td>9z</td>\n",
       "      <td>4</td>\n",
       "      <td>25</td>\n",
       "      <td>Dust2</td>\n",
       "      <td>10</td>\n",
       "      <td>16</td>\n",
       "    </tr>\n",
       "    <tr>\n",
       "      <th>4</th>\n",
       "      <td>Cloud9</td>\n",
       "      <td>9z</td>\n",
       "      <td>4</td>\n",
       "      <td>25</td>\n",
       "      <td>Overpass</td>\n",
       "      <td>16</td>\n",
       "      <td>14</td>\n",
       "    </tr>\n",
       "  </tbody>\n",
       "</table>\n",
       "</div>"
      ],
      "text/plain": [
       "   team_A     team_B  positionA  positionB       map  scoreTeamA  scoreTeamB\n",
       "0  Cloud9  Outsiders          4         16     Dust2          16           6\n",
       "1  Cloud9  Outsiders          4         16   Ancient          16          12\n",
       "2  Cloud9         9z          4         25    Mirage          16          13\n",
       "3  Cloud9         9z          4         25     Dust2          10          16\n",
       "4  Cloud9         9z          4         25  Overpass          16          14"
      ]
     },
     "execution_count": 294,
     "metadata": {},
     "output_type": "execute_result"
    }
   ],
   "source": [
    "results.head(5)"
   ]
  }
 ],
 "metadata": {
  "kernelspec": {
   "display_name": "Python 3 (ipykernel)",
   "language": "python",
   "name": "python3"
  },
  "language_info": {
   "codemirror_mode": {
    "name": "ipython",
    "version": 3
   },
   "file_extension": ".py",
   "mimetype": "text/x-python",
   "name": "python",
   "nbconvert_exporter": "python",
   "pygments_lexer": "ipython3",
   "version": "3.9.7"
  }
 },
 "nbformat": 4,
 "nbformat_minor": 5
}
